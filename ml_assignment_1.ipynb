{
 "cells": [
  {
   "cell_type": "markdown",
   "metadata": {},
   "source": [
    "## Machine learning assignment 1"
   ]
  },
  {
   "cell_type": "code",
   "execution_count": 121,
   "metadata": {},
   "outputs": [],
   "source": [
    "# import libraries\n",
    "import numpy as np\n",
    "import pandas as pd\n",
    "from sklearn.linear_model import LinearRegression\n",
    "from sklearn.model_selection import train_test_split"
   ]
  },
  {
   "cell_type": "markdown",
   "metadata": {},
   "source": [
    "### Importing Seaborn to load dataset"
   ]
  },
  {
   "cell_type": "code",
   "execution_count": 123,
   "metadata": {},
   "outputs": [],
   "source": [
    "import seaborn as sns"
   ]
  },
  {
   "cell_type": "markdown",
   "metadata": {},
   "source": [
    "#### Loading dataset "
   ]
  },
  {
   "cell_type": "code",
   "execution_count": 124,
   "metadata": {},
   "outputs": [
    {
     "data": {
      "text/html": [
       "<div>\n",
       "<style scoped>\n",
       "    .dataframe tbody tr th:only-of-type {\n",
       "        vertical-align: middle;\n",
       "    }\n",
       "\n",
       "    .dataframe tbody tr th {\n",
       "        vertical-align: top;\n",
       "    }\n",
       "\n",
       "    .dataframe thead th {\n",
       "        text-align: right;\n",
       "    }\n",
       "</style>\n",
       "<table border=\"1\" class=\"dataframe\">\n",
       "  <thead>\n",
       "    <tr style=\"text-align: right;\">\n",
       "      <th></th>\n",
       "      <th>survived</th>\n",
       "      <th>pclass</th>\n",
       "      <th>sex</th>\n",
       "      <th>age</th>\n",
       "      <th>sibsp</th>\n",
       "      <th>parch</th>\n",
       "      <th>fare</th>\n",
       "      <th>embarked</th>\n",
       "      <th>class</th>\n",
       "      <th>who</th>\n",
       "      <th>adult_male</th>\n",
       "      <th>deck</th>\n",
       "      <th>embark_town</th>\n",
       "      <th>alive</th>\n",
       "      <th>alone</th>\n",
       "    </tr>\n",
       "  </thead>\n",
       "  <tbody>\n",
       "    <tr>\n",
       "      <th>0</th>\n",
       "      <td>0</td>\n",
       "      <td>3</td>\n",
       "      <td>male</td>\n",
       "      <td>22.0</td>\n",
       "      <td>1</td>\n",
       "      <td>0</td>\n",
       "      <td>7.2500</td>\n",
       "      <td>S</td>\n",
       "      <td>Third</td>\n",
       "      <td>man</td>\n",
       "      <td>True</td>\n",
       "      <td>NaN</td>\n",
       "      <td>Southampton</td>\n",
       "      <td>no</td>\n",
       "      <td>False</td>\n",
       "    </tr>\n",
       "    <tr>\n",
       "      <th>1</th>\n",
       "      <td>1</td>\n",
       "      <td>1</td>\n",
       "      <td>female</td>\n",
       "      <td>38.0</td>\n",
       "      <td>1</td>\n",
       "      <td>0</td>\n",
       "      <td>71.2833</td>\n",
       "      <td>C</td>\n",
       "      <td>First</td>\n",
       "      <td>woman</td>\n",
       "      <td>False</td>\n",
       "      <td>C</td>\n",
       "      <td>Cherbourg</td>\n",
       "      <td>yes</td>\n",
       "      <td>False</td>\n",
       "    </tr>\n",
       "    <tr>\n",
       "      <th>2</th>\n",
       "      <td>1</td>\n",
       "      <td>3</td>\n",
       "      <td>female</td>\n",
       "      <td>26.0</td>\n",
       "      <td>0</td>\n",
       "      <td>0</td>\n",
       "      <td>7.9250</td>\n",
       "      <td>S</td>\n",
       "      <td>Third</td>\n",
       "      <td>woman</td>\n",
       "      <td>False</td>\n",
       "      <td>NaN</td>\n",
       "      <td>Southampton</td>\n",
       "      <td>yes</td>\n",
       "      <td>True</td>\n",
       "    </tr>\n",
       "    <tr>\n",
       "      <th>3</th>\n",
       "      <td>1</td>\n",
       "      <td>1</td>\n",
       "      <td>female</td>\n",
       "      <td>35.0</td>\n",
       "      <td>1</td>\n",
       "      <td>0</td>\n",
       "      <td>53.1000</td>\n",
       "      <td>S</td>\n",
       "      <td>First</td>\n",
       "      <td>woman</td>\n",
       "      <td>False</td>\n",
       "      <td>C</td>\n",
       "      <td>Southampton</td>\n",
       "      <td>yes</td>\n",
       "      <td>False</td>\n",
       "    </tr>\n",
       "    <tr>\n",
       "      <th>4</th>\n",
       "      <td>0</td>\n",
       "      <td>3</td>\n",
       "      <td>male</td>\n",
       "      <td>35.0</td>\n",
       "      <td>0</td>\n",
       "      <td>0</td>\n",
       "      <td>8.0500</td>\n",
       "      <td>S</td>\n",
       "      <td>Third</td>\n",
       "      <td>man</td>\n",
       "      <td>True</td>\n",
       "      <td>NaN</td>\n",
       "      <td>Southampton</td>\n",
       "      <td>no</td>\n",
       "      <td>True</td>\n",
       "    </tr>\n",
       "  </tbody>\n",
       "</table>\n",
       "</div>"
      ],
      "text/plain": [
       "   survived  pclass     sex   age  sibsp  parch     fare embarked  class  \\\n",
       "0         0       3    male  22.0      1      0   7.2500        S  Third   \n",
       "1         1       1  female  38.0      1      0  71.2833        C  First   \n",
       "2         1       3  female  26.0      0      0   7.9250        S  Third   \n",
       "3         1       1  female  35.0      1      0  53.1000        S  First   \n",
       "4         0       3    male  35.0      0      0   8.0500        S  Third   \n",
       "\n",
       "     who  adult_male deck  embark_town alive  alone  \n",
       "0    man        True  NaN  Southampton    no  False  \n",
       "1  woman       False    C    Cherbourg   yes  False  \n",
       "2  woman       False  NaN  Southampton   yes   True  \n",
       "3  woman       False    C  Southampton   yes  False  \n",
       "4    man        True  NaN  Southampton    no   True  "
      ]
     },
     "execution_count": 124,
     "metadata": {},
     "output_type": "execute_result"
    }
   ],
   "source": [
    "# load data\n",
    "df= sns.load_dataset('titanic')\n",
    "df.head()"
   ]
  },
  {
   "cell_type": "markdown",
   "metadata": {},
   "source": [
    "#### Getting info of dataset"
   ]
  },
  {
   "cell_type": "code",
   "execution_count": 125,
   "metadata": {},
   "outputs": [
    {
     "name": "stdout",
     "output_type": "stream",
     "text": [
      "<class 'pandas.core.frame.DataFrame'>\n",
      "RangeIndex: 891 entries, 0 to 890\n",
      "Data columns (total 15 columns):\n",
      " #   Column       Non-Null Count  Dtype   \n",
      "---  ------       --------------  -----   \n",
      " 0   survived     891 non-null    int64   \n",
      " 1   pclass       891 non-null    int64   \n",
      " 2   sex          891 non-null    object  \n",
      " 3   age          714 non-null    float64 \n",
      " 4   sibsp        891 non-null    int64   \n",
      " 5   parch        891 non-null    int64   \n",
      " 6   fare         891 non-null    float64 \n",
      " 7   embarked     889 non-null    object  \n",
      " 8   class        891 non-null    category\n",
      " 9   who          891 non-null    object  \n",
      " 10  adult_male   891 non-null    bool    \n",
      " 11  deck         203 non-null    category\n",
      " 12  embark_town  889 non-null    object  \n",
      " 13  alive        891 non-null    object  \n",
      " 14  alone        891 non-null    bool    \n",
      "dtypes: bool(2), category(2), float64(2), int64(4), object(5)\n",
      "memory usage: 80.7+ KB\n"
     ]
    }
   ],
   "source": [
    "df.info()"
   ]
  },
  {
   "cell_type": "markdown",
   "metadata": {},
   "source": [
    "#### Filling empty cells with mean of the column\n",
    "Because Linear Regression can't handle empty cells"
   ]
  },
  {
   "cell_type": "code",
   "execution_count": 126,
   "metadata": {},
   "outputs": [],
   "source": [
    "df.age.fillna(df.age.mean(), inplace=True)"
   ]
  },
  {
   "cell_type": "markdown",
   "metadata": {},
   "source": [
    "Again, getting info of dataset"
   ]
  },
  {
   "cell_type": "code",
   "execution_count": 127,
   "metadata": {},
   "outputs": [
    {
     "name": "stdout",
     "output_type": "stream",
     "text": [
      "<class 'pandas.core.frame.DataFrame'>\n",
      "RangeIndex: 891 entries, 0 to 890\n",
      "Data columns (total 15 columns):\n",
      " #   Column       Non-Null Count  Dtype   \n",
      "---  ------       --------------  -----   \n",
      " 0   survived     891 non-null    int64   \n",
      " 1   pclass       891 non-null    int64   \n",
      " 2   sex          891 non-null    object  \n",
      " 3   age          891 non-null    float64 \n",
      " 4   sibsp        891 non-null    int64   \n",
      " 5   parch        891 non-null    int64   \n",
      " 6   fare         891 non-null    float64 \n",
      " 7   embarked     889 non-null    object  \n",
      " 8   class        891 non-null    category\n",
      " 9   who          891 non-null    object  \n",
      " 10  adult_male   891 non-null    bool    \n",
      " 11  deck         203 non-null    category\n",
      " 12  embark_town  889 non-null    object  \n",
      " 13  alive        891 non-null    object  \n",
      " 14  alone        891 non-null    bool    \n",
      "dtypes: bool(2), category(2), float64(2), int64(4), object(5)\n",
      "memory usage: 80.7+ KB\n"
     ]
    }
   ],
   "source": [
    "df.info()"
   ]
  },
  {
   "cell_type": "markdown",
   "metadata": {},
   "source": [
    " Getting the correlation of the dataset"
   ]
  },
  {
   "cell_type": "code",
   "execution_count": 128,
   "metadata": {},
   "outputs": [],
   "source": [
    "# linear regression\n",
    "x = df[['age','fare']]\n",
    "y = df['survived']\n",
    "\n",
    "# split data\n",
    "x_train, x_test, y_train, y_test = train_test_split(x, y, test_size=0.9)"
   ]
  },
  {
   "cell_type": "markdown",
   "metadata": {},
   "source": [
    "#### Linear Regression"
   ]
  },
  {
   "cell_type": "markdown",
   "metadata": {},
   "source": [
    "Making a Linear Regression model"
   ]
  },
  {
   "cell_type": "code",
   "execution_count": 129,
   "metadata": {},
   "outputs": [],
   "source": [
    "model= LinearRegression()"
   ]
  },
  {
   "cell_type": "markdown",
   "metadata": {},
   "source": [
    "Train the model"
   ]
  },
  {
   "cell_type": "code",
   "execution_count": 130,
   "metadata": {},
   "outputs": [
    {
     "data": {
      "text/html": [
       "<style>#sk-container-id-18 {color: black;background-color: white;}#sk-container-id-18 pre{padding: 0;}#sk-container-id-18 div.sk-toggleable {background-color: white;}#sk-container-id-18 label.sk-toggleable__label {cursor: pointer;display: block;width: 100%;margin-bottom: 0;padding: 0.3em;box-sizing: border-box;text-align: center;}#sk-container-id-18 label.sk-toggleable__label-arrow:before {content: \"▸\";float: left;margin-right: 0.25em;color: #696969;}#sk-container-id-18 label.sk-toggleable__label-arrow:hover:before {color: black;}#sk-container-id-18 div.sk-estimator:hover label.sk-toggleable__label-arrow:before {color: black;}#sk-container-id-18 div.sk-toggleable__content {max-height: 0;max-width: 0;overflow: hidden;text-align: left;background-color: #f0f8ff;}#sk-container-id-18 div.sk-toggleable__content pre {margin: 0.2em;color: black;border-radius: 0.25em;background-color: #f0f8ff;}#sk-container-id-18 input.sk-toggleable__control:checked~div.sk-toggleable__content {max-height: 200px;max-width: 100%;overflow: auto;}#sk-container-id-18 input.sk-toggleable__control:checked~label.sk-toggleable__label-arrow:before {content: \"▾\";}#sk-container-id-18 div.sk-estimator input.sk-toggleable__control:checked~label.sk-toggleable__label {background-color: #d4ebff;}#sk-container-id-18 div.sk-label input.sk-toggleable__control:checked~label.sk-toggleable__label {background-color: #d4ebff;}#sk-container-id-18 input.sk-hidden--visually {border: 0;clip: rect(1px 1px 1px 1px);clip: rect(1px, 1px, 1px, 1px);height: 1px;margin: -1px;overflow: hidden;padding: 0;position: absolute;width: 1px;}#sk-container-id-18 div.sk-estimator {font-family: monospace;background-color: #f0f8ff;border: 1px dotted black;border-radius: 0.25em;box-sizing: border-box;margin-bottom: 0.5em;}#sk-container-id-18 div.sk-estimator:hover {background-color: #d4ebff;}#sk-container-id-18 div.sk-parallel-item::after {content: \"\";width: 100%;border-bottom: 1px solid gray;flex-grow: 1;}#sk-container-id-18 div.sk-label:hover label.sk-toggleable__label {background-color: #d4ebff;}#sk-container-id-18 div.sk-serial::before {content: \"\";position: absolute;border-left: 1px solid gray;box-sizing: border-box;top: 0;bottom: 0;left: 50%;z-index: 0;}#sk-container-id-18 div.sk-serial {display: flex;flex-direction: column;align-items: center;background-color: white;padding-right: 0.2em;padding-left: 0.2em;position: relative;}#sk-container-id-18 div.sk-item {position: relative;z-index: 1;}#sk-container-id-18 div.sk-parallel {display: flex;align-items: stretch;justify-content: center;background-color: white;position: relative;}#sk-container-id-18 div.sk-item::before, #sk-container-id-18 div.sk-parallel-item::before {content: \"\";position: absolute;border-left: 1px solid gray;box-sizing: border-box;top: 0;bottom: 0;left: 50%;z-index: -1;}#sk-container-id-18 div.sk-parallel-item {display: flex;flex-direction: column;z-index: 1;position: relative;background-color: white;}#sk-container-id-18 div.sk-parallel-item:first-child::after {align-self: flex-end;width: 50%;}#sk-container-id-18 div.sk-parallel-item:last-child::after {align-self: flex-start;width: 50%;}#sk-container-id-18 div.sk-parallel-item:only-child::after {width: 0;}#sk-container-id-18 div.sk-dashed-wrapped {border: 1px dashed gray;margin: 0 0.4em 0.5em 0.4em;box-sizing: border-box;padding-bottom: 0.4em;background-color: white;}#sk-container-id-18 div.sk-label label {font-family: monospace;font-weight: bold;display: inline-block;line-height: 1.2em;}#sk-container-id-18 div.sk-label-container {text-align: center;}#sk-container-id-18 div.sk-container {/* jupyter's `normalize.less` sets `[hidden] { display: none; }` but bootstrap.min.css set `[hidden] { display: none !important; }` so we also need the `!important` here to be able to override the default hidden behavior on the sphinx rendered scikit-learn.org. See: https://github.com/scikit-learn/scikit-learn/issues/21755 */display: inline-block !important;position: relative;}#sk-container-id-18 div.sk-text-repr-fallback {display: none;}</style><div id=\"sk-container-id-18\" class=\"sk-top-container\"><div class=\"sk-text-repr-fallback\"><pre>LinearRegression()</pre><b>In a Jupyter environment, please rerun this cell to show the HTML representation or trust the notebook. <br />On GitHub, the HTML representation is unable to render, please try loading this page with nbviewer.org.</b></div><div class=\"sk-container\" hidden><div class=\"sk-item\"><div class=\"sk-estimator sk-toggleable\"><input class=\"sk-toggleable__control sk-hidden--visually\" id=\"sk-estimator-id-18\" type=\"checkbox\" checked><label for=\"sk-estimator-id-18\" class=\"sk-toggleable__label sk-toggleable__label-arrow\">LinearRegression</label><div class=\"sk-toggleable__content\"><pre>LinearRegression()</pre></div></div></div></div></div>"
      ],
      "text/plain": [
       "LinearRegression()"
      ]
     },
     "execution_count": 130,
     "metadata": {},
     "output_type": "execute_result"
    }
   ],
   "source": [
    "# train model\n",
    "model.fit(x_test, y_test)"
   ]
  },
  {
   "cell_type": "markdown",
   "metadata": {},
   "source": [
    "Checking the accuracy of the model"
   ]
  },
  {
   "cell_type": "code",
   "execution_count": 133,
   "metadata": {},
   "outputs": [
    {
     "name": "stdout",
     "output_type": "stream",
     "text": [
      "0.07488655424794566\n"
     ]
    }
   ],
   "source": [
    "accuracy= model.score(df[['age','fare']], df['survived'])\n",
    "print(accuracy)"
   ]
  },
  {
   "cell_type": "markdown",
   "metadata": {},
   "source": [
    "Predicing the values test data"
   ]
  },
  {
   "cell_type": "code",
   "execution_count": 79,
   "metadata": {},
   "outputs": [
    {
     "name": "stdout",
     "output_type": "stream",
     "text": [
      "[0.35486049 0.33272063 0.87711002 0.23582209 0.48098204 0.3516243\n",
      " 0.37615293 0.41110139 0.35967127 0.45066104 0.51383857 0.35523972\n",
      " 0.4371658  0.29093006 0.51577918 0.28354603 0.35676891 0.39472271\n",
      " 0.35856098 0.50055335 0.34503933 0.32905692 0.38556089 0.35275251\n",
      " 0.44465575 0.37438769 0.39716457 0.35037597 0.31096472 0.24096671\n",
      " 0.45249475 0.36537006 0.32743793 0.33957037 0.35709227 0.27584895\n",
      " 0.30453682 0.39570911 0.41334734 0.36538704 0.32529018 0.48098204\n",
      " 0.38470771 0.34603799 0.3847361  0.32668894 0.34052261 0.33745009\n",
      " 0.32810182 0.30733988 0.33699329 0.28089521 0.4529931  0.35390249\n",
      " 0.31258143 0.33181948 0.32743793 0.33475103 0.32668894 0.3857225\n",
      " 0.29370759 0.33313766 0.4371658  0.94164931 0.35515929 0.35492763\n",
      " 0.50902583 0.48613991 0.30619843 0.45326064 0.33249085 0.45165025\n",
      " 0.35566536 0.28103797 0.33546507 0.34343723 0.36914812 0.3857225\n",
      " 0.4267511  0.36097547 0.34031651 0.3619097  0.5071799  0.36524995\n",
      " 0.37092137 0.32668894 0.39599762 0.4384016  0.32116791 0.31948468\n",
      " 0.36536819 0.35173864 0.33320106 0.44592018 0.37206559 0.28283012\n",
      " 0.4886896  0.37092137 0.37046457 0.38397662 0.36716587 0.3270115\n",
      " 0.36022357 0.35613245 0.29250367 0.37518262 0.32457815 0.31510978\n",
      " 0.32668894 0.32743793 0.34875787 0.66803799 0.2958515  0.28613346\n",
      " 0.3355587  0.32675135 0.36316078 0.30146897 0.34591508 0.33555669\n",
      " 0.43956775 0.27263638 0.33944269 0.38223945 0.49669397 0.36565753\n",
      " 0.45371944 0.32537819 0.58641928 0.36178973 0.3355587  0.33948995\n",
      " 0.24145186 0.33763547 0.42024247 0.45908725 0.32053055 0.38598439\n",
      " 0.32173536 0.32538868 0.61562636 0.45945229 0.4379423  0.48697316\n",
      " 0.29831208 0.23319115 0.36352691 0.35680485 0.32159635 0.35243473\n",
      " 0.32662652 0.3887118  0.3270115  0.34013788 0.4063691  0.3614653\n",
      " 0.41898469 0.34603799 0.37247134 0.35813922 0.45834949 0.32537819\n",
      " 0.36484897 0.41821956 0.36908277 0.33486267 0.31651129 0.35168671\n",
      " 0.33771108 1.5683867  0.34753598 0.32053055 0.32705295 0.32538868\n",
      " 0.35718979 0.30733988 0.87539067 0.67315136 0.36750639 0.43045038\n",
      " 0.33765619 0.27781319 0.37849639 0.32322021 0.52523525 0.3286929\n",
      " 0.32665773 0.32743793 0.34097376 0.3140619  0.38699411 0.36958601\n",
      " 0.32084263 0.41762202 0.34540334 0.36033791 0.36538704 0.4173997\n",
      " 0.274491   0.28103797 0.35849009 0.45922819 0.34239037 0.35485479\n",
      " 0.269247   0.38895778 0.35525389 0.2771209  0.34234081 0.32896713\n",
      " 0.36028598 0.46249393 0.34540334 0.48098204 0.37333099 0.30733988\n",
      " 0.39829751 0.32743793 0.32705295 0.23805579 0.34022102 0.34354134\n",
      " 0.28021809 0.32693476 0.43507587 0.31956399 0.34816206 0.36716025\n",
      " 1.57125312 0.36763403 0.516844   0.62057797 0.51480415 0.35326602\n",
      " 0.35237329 0.35403023 0.36670541 0.34957303 0.35475087 0.3389339\n",
      " 0.36961825 0.36639708 0.32705295 0.35132541 0.29823652 0.33841094\n",
      " 0.3097467  0.32705295 0.33302035 0.52141082 0.32538868 0.49121842\n",
      " 0.36097256 0.32746821 0.31313609 0.36670541 0.28644554 0.41791611\n",
      " 0.3515826  0.40928376 0.32537819 0.32638734 0.32668894 0.33841094\n",
      " 0.33670395 0.32538868 0.33804117 0.35810614 0.39122459 0.32743793\n",
      " 0.31675156 0.32668894 0.36316078 0.44097234 0.35187869 0.32688667\n",
      " 0.34129155 0.33817354 0.37403265 0.33192334 0.44512017 0.36129784\n",
      " 0.35899887 0.32339697 0.45650169 0.32668894 0.34739416 0.33884786\n",
      " 0.31256864 0.86563853 0.22950101 0.33306205 0.32657548 0.36324791\n",
      " 0.76510493 0.38149045 0.32173536 0.48595836 0.32705295 0.44475513\n",
      " 0.41716419 0.32982585 0.35326602 0.31017028 0.33762316 0.43902228\n",
      " 0.48582318 0.71522581 0.31759122 0.32668894 0.27536379 0.45142609\n",
      " 0.36028598 0.4533544  0.34625546 0.34632836 0.32668894 0.34603799\n",
      " 0.43690324 0.37696162 0.35374922 0.32559665 0.38531492 0.35718979\n",
      " 0.48098204 0.373626   0.36410652 0.99593363 0.33842512 0.4032899\n",
      " 0.4262193  0.26389441 0.35810614 0.35174913 0.36098674 0.37212993\n",
      " 0.43648782 0.5288524  0.61074648 0.42471754 0.32296006 0.55751664\n",
      " 0.47058032 0.56540117 0.32162283 0.36279111 0.58282651 0.31185837\n",
      " 0.46654119 0.32544061 0.49136126 0.39108558 0.34343723 0.34753318\n",
      " 0.32705295 0.38581425 0.35237329 0.43842745 0.34753318 0.32302247\n",
      " 0.373626   0.29394967 0.41252948 0.35475087 0.36387207 0.3195054\n",
      " 0.32452622 0.32743793 0.34746978 0.35386933 0.295198   0.32469161\n",
      " 0.37425681 0.31836015 0.40641734 0.34059551 0.46482009 0.35319046\n",
      " 0.32173536 0.43632892 0.46151564 0.41290765 0.3389339  0.26563158\n",
      " 0.32668894 0.35899887 0.32618961 0.42968145 0.44358149 0.35097316\n",
      " 0.34377402 0.41152032 0.40292105 0.40620731 0.32852456 0.36591472\n",
      " 0.32009363 0.28677082 0.35772116 0.35188445 0.44839024 0.52691\n",
      " 0.30114743 0.30453682 0.47447757 0.47953796 0.32705295 0.99462761\n",
      " 0.4221557  0.30965072 0.36536819 0.37654908 0.98316192 0.53129332\n",
      " 0.44742012 0.35206121 0.52437845 0.40292105 0.32705295 0.45766112\n",
      " 0.64101745 0.40784533 0.34950687 0.29752625 0.3675121  0.47188911\n",
      " 0.35817328 0.28067961 0.48098204 0.3294419  0.35274306 0.37032556\n",
      " 0.30125613 0.43321762 0.40880043 0.46129072 0.29117973 0.32122658\n",
      " 0.41809766 0.35767971 0.29718587 0.32544061 0.3461516  0.42269854\n",
      " 0.32494128 0.33606748 0.31759122 0.34744143 0.54820263 0.35741956\n",
      " 0.32705295 0.33269227 0.34466675 0.42976006 0.45639389 0.44179494\n",
      " 0.30036812 0.41741491 0.34745761 0.35178221 0.30993395 0.34887222\n",
      " 0.3915471  0.32058155 0.37370076 0.32664724 0.85159682 0.38285608\n",
      " 0.3913381  0.34750955 0.3897294  0.33126045 0.30453682 0.52257685\n",
      " 0.36135282 0.4306831  0.32746821 0.33735459 0.34354134 0.44839024\n",
      " 0.40389135 0.33755233 0.35326602 0.35772116 0.33320244 0.48424851\n",
      " 0.33096352 0.27393197 0.33990893 0.37855305 0.31785414 0.51485515\n",
      " 0.9089253  0.36914812 0.32657548 0.41285852 0.3255276  0.34750955\n",
      " 0.34744713 0.34342699 0.29273541 0.31026966 0.36763403 0.32541034\n",
      " 0.53973286 0.31549373 0.34415797 0.56256777 0.51736218 0.445036\n",
      " 0.2724387  0.40181173 0.39952504 0.34270251 0.30858714 0.42890527\n",
      " 0.36159673 0.34750955 0.25348166 0.32882586 0.32544061 0.44497546\n",
      " 0.37444321 0.38387364 0.32743793 0.35116381 0.32045764 0.36931174\n",
      " 0.27547353 0.46370035 0.32976718 0.35958892 0.30046558 0.66053774\n",
      " 0.33979636 0.34912188 0.31713546 0.48327821 0.32695943 0.31224336\n",
      " 0.32083407 0.49669397 0.35396963 0.34603799 0.35876241 0.37425681\n",
      " 0.32759397 0.37983828 0.37175725 0.31313609 0.32668894 0.34194972\n",
      " 0.43682251 0.37333099 0.37092137 0.36844736 0.44225375 0.59202903\n",
      " 0.25991763 0.4384016  0.34744143 0.42197122 0.34667353 0.32053055\n",
      " 0.36995578 0.66095567 0.36907533 0.33592847 0.32537819 0.43308798\n",
      " 0.42356764 0.32538868 0.35899887 0.34818564 0.32743793 0.34753598\n",
      " 0.33592847 0.34740731 0.30733988 0.34622243 0.34150631 0.57218363\n",
      " 0.79685014 0.41448403 0.36763403 0.28644554 0.58887714 0.34577134\n",
      " 0.28160542 0.38397012 0.36048372 0.35613245 0.34515948 0.27587258\n",
      " 0.40190625 0.30733988 0.41319793 0.32446267 0.34855074 0.30259621\n",
      " 0.48472603 0.35843142 0.37998965 0.34540334 0.37282221 0.35419184\n",
      " 0.48199034 0.33199624 0.33126045 0.3863069  0.32845731 0.34719746\n",
      " 0.69917718 0.44227444 0.21803531 0.37689247 0.35490963 0.38424341\n",
      " 0.28531732 0.32976718 0.32538868 0.48767967 0.32675135 0.31036141\n",
      " 0.33192334 0.42461835 0.35885986 0.52980208 0.33105808 0.28733827\n",
      " 0.44569324 0.30899195 0.44179494 0.40362835 0.19976624 0.32142328\n",
      " 0.36544581 0.36422294 0.36177355 0.4334625  0.35772116 0.28357912\n",
      " 0.25529883 0.47562088 0.37654908 0.34989082 0.27476326 0.31122948\n",
      " 0.98029549 0.37325543 0.60936004 0.50669671 0.34603799 0.344575\n",
      " 0.32668894 0.3345401  0.3552094  0.32688667 0.44727074 0.32618961\n",
      " 0.34466675 0.44839024 0.34313937 0.3449145  0.35705826 0.33167367\n",
      " 0.49568585 0.35180918 0.43882083 0.32743793 0.33755233 0.36601883\n",
      " 0.35676891 0.42741654 0.36588638 0.32538868 0.67509587 0.32537819\n",
      " 0.61275994 0.70777646 0.36089309 0.36595642 0.35761729 0.29956818\n",
      " 0.32668894 0.33772909 0.30733988 0.51249179 0.32035378 0.34750955\n",
      " 0.32875532 0.58417691 0.6136129  0.44878383 0.32664724 0.84013113\n",
      " 0.3389339  0.42410005 0.44644792 0.34315798 0.48098204 0.32705295\n",
      " 0.44764893 0.46672469 0.84311863 0.47803247 0.35137463 0.34338904\n",
      " 0.35275724 0.30799329 0.36588638 0.48605011 0.30259621 0.29572903\n",
      " 0.34559257 0.43343691 0.35777605 0.32668894 0.39414778 0.32363148\n",
      " 0.38348777 0.36752258 0.25201537 0.32080955 0.43935424 0.33731108\n",
      " 0.48098204 0.66668852 0.35837653 0.3270115  0.43064326 0.33019562\n",
      " 0.83698008 0.34603799 0.32705295 0.25705593 0.37420955 0.30733988\n",
      " 0.35275863 0.34967605 0.32514226 0.30517328 0.30733988 0.44091728\n",
      " 0.32668894 0.44860984 0.33891027 0.32663701 0.35333026 0.32743793\n",
      " 0.32439327 0.58887714 0.40835778 0.27536379 0.34022102 0.31510978\n",
      " 0.86712229 0.43599321 0.32668894 0.32668894 0.31224336 0.37194941\n",
      " 0.32705295 0.32810467 0.28931196 0.29510625 0.38757413 0.34070421\n",
      " 0.3533946  0.3945998  0.43217249 0.35772692 0.35211222 0.86104541\n",
      " 0.3695199  0.35613245 0.33176784 0.34912194 0.32705295 0.39284269\n",
      " 0.36421821 0.32665773 0.35710748 0.32668894 0.34539212 0.76820067\n",
      " 0.32746821 0.34875787 0.22550164 0.36958601 0.50824473 0.36536819\n",
      " 0.31961799 0.49104619 0.34882029 0.32678256 0.4694332  0.48829696\n",
      " 0.32743793 0.42980259 0.39597103 0.37575952]\n"
     ]
    }
   ],
   "source": [
    "predictions=model.predict(x_test)\n",
    "print(predictions)"
   ]
  },
  {
   "cell_type": "code",
   "execution_count": 91,
   "metadata": {},
   "outputs": [],
   "source": [
    "# linear regression\n",
    "x = df[['age','fare']]\n",
    "y = df['survived']\n",
    "\n",
    "# split data\n",
    "x_train, x_test, y_train, y_test = train_test_split(x, y, test_size=0.9)"
   ]
  },
  {
   "cell_type": "code",
   "execution_count": 116,
   "metadata": {},
   "outputs": [],
   "source": [
    "model= LinearRegression()"
   ]
  },
  {
   "cell_type": "code",
   "execution_count": 117,
   "metadata": {},
   "outputs": [
    {
     "data": {
      "text/html": [
       "<style>#sk-container-id-17 {color: black;background-color: white;}#sk-container-id-17 pre{padding: 0;}#sk-container-id-17 div.sk-toggleable {background-color: white;}#sk-container-id-17 label.sk-toggleable__label {cursor: pointer;display: block;width: 100%;margin-bottom: 0;padding: 0.3em;box-sizing: border-box;text-align: center;}#sk-container-id-17 label.sk-toggleable__label-arrow:before {content: \"▸\";float: left;margin-right: 0.25em;color: #696969;}#sk-container-id-17 label.sk-toggleable__label-arrow:hover:before {color: black;}#sk-container-id-17 div.sk-estimator:hover label.sk-toggleable__label-arrow:before {color: black;}#sk-container-id-17 div.sk-toggleable__content {max-height: 0;max-width: 0;overflow: hidden;text-align: left;background-color: #f0f8ff;}#sk-container-id-17 div.sk-toggleable__content pre {margin: 0.2em;color: black;border-radius: 0.25em;background-color: #f0f8ff;}#sk-container-id-17 input.sk-toggleable__control:checked~div.sk-toggleable__content {max-height: 200px;max-width: 100%;overflow: auto;}#sk-container-id-17 input.sk-toggleable__control:checked~label.sk-toggleable__label-arrow:before {content: \"▾\";}#sk-container-id-17 div.sk-estimator input.sk-toggleable__control:checked~label.sk-toggleable__label {background-color: #d4ebff;}#sk-container-id-17 div.sk-label input.sk-toggleable__control:checked~label.sk-toggleable__label {background-color: #d4ebff;}#sk-container-id-17 input.sk-hidden--visually {border: 0;clip: rect(1px 1px 1px 1px);clip: rect(1px, 1px, 1px, 1px);height: 1px;margin: -1px;overflow: hidden;padding: 0;position: absolute;width: 1px;}#sk-container-id-17 div.sk-estimator {font-family: monospace;background-color: #f0f8ff;border: 1px dotted black;border-radius: 0.25em;box-sizing: border-box;margin-bottom: 0.5em;}#sk-container-id-17 div.sk-estimator:hover {background-color: #d4ebff;}#sk-container-id-17 div.sk-parallel-item::after {content: \"\";width: 100%;border-bottom: 1px solid gray;flex-grow: 1;}#sk-container-id-17 div.sk-label:hover label.sk-toggleable__label {background-color: #d4ebff;}#sk-container-id-17 div.sk-serial::before {content: \"\";position: absolute;border-left: 1px solid gray;box-sizing: border-box;top: 0;bottom: 0;left: 50%;z-index: 0;}#sk-container-id-17 div.sk-serial {display: flex;flex-direction: column;align-items: center;background-color: white;padding-right: 0.2em;padding-left: 0.2em;position: relative;}#sk-container-id-17 div.sk-item {position: relative;z-index: 1;}#sk-container-id-17 div.sk-parallel {display: flex;align-items: stretch;justify-content: center;background-color: white;position: relative;}#sk-container-id-17 div.sk-item::before, #sk-container-id-17 div.sk-parallel-item::before {content: \"\";position: absolute;border-left: 1px solid gray;box-sizing: border-box;top: 0;bottom: 0;left: 50%;z-index: -1;}#sk-container-id-17 div.sk-parallel-item {display: flex;flex-direction: column;z-index: 1;position: relative;background-color: white;}#sk-container-id-17 div.sk-parallel-item:first-child::after {align-self: flex-end;width: 50%;}#sk-container-id-17 div.sk-parallel-item:last-child::after {align-self: flex-start;width: 50%;}#sk-container-id-17 div.sk-parallel-item:only-child::after {width: 0;}#sk-container-id-17 div.sk-dashed-wrapped {border: 1px dashed gray;margin: 0 0.4em 0.5em 0.4em;box-sizing: border-box;padding-bottom: 0.4em;background-color: white;}#sk-container-id-17 div.sk-label label {font-family: monospace;font-weight: bold;display: inline-block;line-height: 1.2em;}#sk-container-id-17 div.sk-label-container {text-align: center;}#sk-container-id-17 div.sk-container {/* jupyter's `normalize.less` sets `[hidden] { display: none; }` but bootstrap.min.css set `[hidden] { display: none !important; }` so we also need the `!important` here to be able to override the default hidden behavior on the sphinx rendered scikit-learn.org. See: https://github.com/scikit-learn/scikit-learn/issues/21755 */display: inline-block !important;position: relative;}#sk-container-id-17 div.sk-text-repr-fallback {display: none;}</style><div id=\"sk-container-id-17\" class=\"sk-top-container\"><div class=\"sk-text-repr-fallback\"><pre>LinearRegression()</pre><b>In a Jupyter environment, please rerun this cell to show the HTML representation or trust the notebook. <br />On GitHub, the HTML representation is unable to render, please try loading this page with nbviewer.org.</b></div><div class=\"sk-container\" hidden><div class=\"sk-item\"><div class=\"sk-estimator sk-toggleable\"><input class=\"sk-toggleable__control sk-hidden--visually\" id=\"sk-estimator-id-17\" type=\"checkbox\" checked><label for=\"sk-estimator-id-17\" class=\"sk-toggleable__label sk-toggleable__label-arrow\">LinearRegression</label><div class=\"sk-toggleable__content\"><pre>LinearRegression()</pre></div></div></div></div></div>"
      ],
      "text/plain": [
       "LinearRegression()"
      ]
     },
     "execution_count": 117,
     "metadata": {},
     "output_type": "execute_result"
    }
   ],
   "source": [
    "# train model\n",
    "model.fit(x_train, y_train)"
   ]
  },
  {
   "cell_type": "code",
   "execution_count": 118,
   "metadata": {},
   "outputs": [
    {
     "name": "stdout",
     "output_type": "stream",
     "text": [
      "0.0432150017070152\n"
     ]
    }
   ],
   "source": [
    "accuracy= model.score(df[['age','fare']], df['survived'])\n",
    "print(accuracy)"
   ]
  },
  {
   "cell_type": "code",
   "execution_count": 119,
   "metadata": {},
   "outputs": [],
   "source": [
    "predictions=model.predict(x_test)\n"
   ]
  },
  {
   "cell_type": "code",
   "execution_count": 110,
   "metadata": {},
   "outputs": [
    {
     "data": {
      "text/plain": [
       "<matplotlib.collections.PathCollection at 0x2995baced10>"
      ]
     },
     "execution_count": 110,
     "metadata": {},
     "output_type": "execute_result"
    },
    {
     "data": {
      "image/png": "[encoded data removed]",
      "text/plain": [
       "<Figure size 640x480 with 1 Axes>"
      ]
     },
     "metadata": {},
     "output_type": "display_data"
    }
   ],
   "source": [
    "plt.scatter(y_test, predictions)\n"
   ]
  },
  {
   "cell_type": "code",
   "execution_count": null,
   "metadata": {},
   "outputs": [],
   "source": []
  }
 ],
 "metadata": {
  "kernelspec": {
   "display_name": "Python 3.10.8 64-bit",
   "language": "python",
   "name": "python3"
  },
  "language_info": {
   "codemirror_mode": {
    "name": "ipython",
    "version": 3
   },
   "file_extension": ".py",
   "mimetype": "text/x-python",
   "name": "python",
   "nbconvert_exporter": "python",
   "pygments_lexer": "ipython3",
   "version": "3.10.8"
  },
  "orig_nbformat": 4,
  "vscode": {
   "interpreter": {
    "hash": "c4b181524223241c7740ef52d002867def834bbcd6c8d6b838eda11bb262ccc1"
   }
  }
 },
 "nbformat": 4,
 "nbformat_minor": 2
}
