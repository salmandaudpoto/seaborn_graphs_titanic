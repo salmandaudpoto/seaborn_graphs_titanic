{
 "cells": [
  {
   "cell_type": "markdown",
   "metadata": {},
   "source": [
    "# Importing Libraries"
   ]
  },
  {
   "cell_type": "code",
   "execution_count": 1,
   "metadata": {},
   "outputs": [],
   "source": [
    "import pandas as pd \n",
    "import numpy as np \n",
    "from sklearn.linear_model import LinearRegression\n"
   ]
  },
  {
   "cell_type": "code",
   "execution_count": 2,
   "metadata": {},
   "outputs": [
    {
     "name": "stdout",
     "output_type": "stream",
     "text": [
      "Requirement already satisfied: scikit-learn in c:\\users\\rozba\\appdata\\local\\programs\\python\\python310\\lib\\site-packages (1.1.3)\n",
      "Requirement already satisfied: joblib>=1.0.0 in c:\\users\\rozba\\appdata\\local\\programs\\python\\python310\\lib\\site-packages (from scikit-learn) (1.2.0)\n",
      "Requirement already satisfied: numpy>=1.17.3 in c:\\users\\rozba\\appdata\\roaming\\python\\python310\\site-packages (from scikit-learn) (1.23.4)\n",
      "Requirement already satisfied: scipy>=1.3.2 in c:\\users\\rozba\\appdata\\local\\programs\\python\\python310\\lib\\site-packages (from scikit-learn) (1.9.3)\n",
      "Requirement already satisfied: threadpoolctl>=2.0.0 in c:\\users\\rozba\\appdata\\local\\programs\\python\\python310\\lib\\site-packages (from scikit-learn) (3.1.0)\n",
      "Note: you may need to restart the kernel to use updated packages.\n"
     ]
    },
    {
     "name": "stderr",
     "output_type": "stream",
     "text": [
      "WARNING: Ignoring invalid distribution -illow (c:\\users\\rozba\\appdata\\local\\programs\\python\\python310\\lib\\site-packages)\n",
      "WARNING: Ignoring invalid distribution -atplotlib (c:\\users\\rozba\\appdata\\local\\programs\\python\\python310\\lib\\site-packages)\n",
      "WARNING: Ignoring invalid distribution -illow (c:\\users\\rozba\\appdata\\local\\programs\\python\\python310\\lib\\site-packages)\n",
      "WARNING: Ignoring invalid distribution -atplotlib (c:\\users\\rozba\\appdata\\local\\programs\\python\\python310\\lib\\site-packages)\n",
      "WARNING: Ignoring invalid distribution -illow (c:\\users\\rozba\\appdata\\local\\programs\\python\\python310\\lib\\site-packages)\n",
      "WARNING: Ignoring invalid distribution -atplotlib (c:\\users\\rozba\\appdata\\local\\programs\\python\\python310\\lib\\site-packages)\n",
      "WARNING: Ignoring invalid distribution -illow (c:\\users\\rozba\\appdata\\local\\programs\\python\\python310\\lib\\site-packages)\n",
      "WARNING: Ignoring invalid distribution -atplotlib (c:\\users\\rozba\\appdata\\local\\programs\\python\\python310\\lib\\site-packages)\n",
      "WARNING: Ignoring invalid distribution -illow (c:\\users\\rozba\\appdata\\local\\programs\\python\\python310\\lib\\site-packages)\n",
      "WARNING: Ignoring invalid distribution -atplotlib (c:\\users\\rozba\\appdata\\local\\programs\\python\\python310\\lib\\site-packages)\n",
      "WARNING: Ignoring invalid distribution -illow (c:\\users\\rozba\\appdata\\local\\programs\\python\\python310\\lib\\site-packages)\n",
      "WARNING: Ignoring invalid distribution -atplotlib (c:\\users\\rozba\\appdata\\local\\programs\\python\\python310\\lib\\site-packages)\n"
     ]
    }
   ],
   "source": [
    "pip install -U scikit-learn"
   ]
  },
  {
   "cell_type": "code",
   "execution_count": 3,
   "metadata": {},
   "outputs": [],
   "source": [
    "# importing libraries\n",
    "import pandas as pd\n",
    "import numpy as np\n",
    "\n"
   ]
  },
  {
   "cell_type": "code",
   "execution_count": 4,
   "metadata": {},
   "outputs": [],
   "source": [
    "# import linear regression scikit-learn\n",
    "from sklearn.linear_model import LinearRegression\n",
    "from sklearn.model_selection import train_test_split"
   ]
  },
  {
   "cell_type": "code",
   "execution_count": 5,
   "metadata": {},
   "outputs": [
    {
     "name": "stderr",
     "output_type": "stream",
     "text": [
      "\n",
      "Bad key figure.labelsize in file c:\\Users\\Rozba\\AppData\\Local\\Programs\\Python\\Python310\\lib\\site-packages\\matplotlib\\mpl-data\\stylelib\\classic (2).mplstyle, line 310 ('figure.labelsize:   medium    # size of the figure label')\n",
      "You probably need to get an updated matplotlibrc file from\n",
      "https://github.com/matplotlib/matplotlib/blob/v3.5.3/matplotlibrc.template\n",
      "or from the matplotlib source distribution\n",
      "\n",
      "Bad key figure.labelweight in file c:\\Users\\Rozba\\AppData\\Local\\Programs\\Python\\Python310\\lib\\site-packages\\matplotlib\\mpl-data\\stylelib\\classic (2).mplstyle, line 311 ('figure.labelweight: normal    # weight of the figure label')\n",
      "You probably need to get an updated matplotlibrc file from\n",
      "https://github.com/matplotlib/matplotlib/blob/v3.5.3/matplotlibrc.template\n",
      "or from the matplotlib source distribution\n"
     ]
    }
   ],
   "source": [
    "import seaborn as sns"
   ]
  },
  {
   "cell_type": "code",
   "execution_count": 6,
   "metadata": {},
   "outputs": [
    {
     "data": {
      "text/html": [
       "<div>\n",
       "<style scoped>\n",
       "    .dataframe tbody tr th:only-of-type {\n",
       "        vertical-align: middle;\n",
       "    }\n",
       "\n",
       "    .dataframe tbody tr th {\n",
       "        vertical-align: top;\n",
       "    }\n",
       "\n",
       "    .dataframe thead th {\n",
       "        text-align: right;\n",
       "    }\n",
       "</style>\n",
       "<table border=\"1\" class=\"dataframe\">\n",
       "  <thead>\n",
       "    <tr style=\"text-align: right;\">\n",
       "      <th></th>\n",
       "      <th>total_bill</th>\n",
       "      <th>tip</th>\n",
       "      <th>sex</th>\n",
       "      <th>smoker</th>\n",
       "      <th>day</th>\n",
       "      <th>time</th>\n",
       "      <th>size</th>\n",
       "    </tr>\n",
       "  </thead>\n",
       "  <tbody>\n",
       "    <tr>\n",
       "      <th>0</th>\n",
       "      <td>16.99</td>\n",
       "      <td>1.01</td>\n",
       "      <td>Female</td>\n",
       "      <td>No</td>\n",
       "      <td>Sun</td>\n",
       "      <td>Dinner</td>\n",
       "      <td>2</td>\n",
       "    </tr>\n",
       "    <tr>\n",
       "      <th>1</th>\n",
       "      <td>10.34</td>\n",
       "      <td>1.66</td>\n",
       "      <td>Male</td>\n",
       "      <td>No</td>\n",
       "      <td>Sun</td>\n",
       "      <td>Dinner</td>\n",
       "      <td>3</td>\n",
       "    </tr>\n",
       "    <tr>\n",
       "      <th>2</th>\n",
       "      <td>21.01</td>\n",
       "      <td>3.50</td>\n",
       "      <td>Male</td>\n",
       "      <td>No</td>\n",
       "      <td>Sun</td>\n",
       "      <td>Dinner</td>\n",
       "      <td>3</td>\n",
       "    </tr>\n",
       "    <tr>\n",
       "      <th>3</th>\n",
       "      <td>23.68</td>\n",
       "      <td>3.31</td>\n",
       "      <td>Male</td>\n",
       "      <td>No</td>\n",
       "      <td>Sun</td>\n",
       "      <td>Dinner</td>\n",
       "      <td>2</td>\n",
       "    </tr>\n",
       "    <tr>\n",
       "      <th>4</th>\n",
       "      <td>24.59</td>\n",
       "      <td>3.61</td>\n",
       "      <td>Female</td>\n",
       "      <td>No</td>\n",
       "      <td>Sun</td>\n",
       "      <td>Dinner</td>\n",
       "      <td>4</td>\n",
       "    </tr>\n",
       "  </tbody>\n",
       "</table>\n",
       "</div>"
      ],
      "text/plain": [
       "   total_bill   tip     sex smoker  day    time  size\n",
       "0       16.99  1.01  Female     No  Sun  Dinner     2\n",
       "1       10.34  1.66    Male     No  Sun  Dinner     3\n",
       "2       21.01  3.50    Male     No  Sun  Dinner     3\n",
       "3       23.68  3.31    Male     No  Sun  Dinner     2\n",
       "4       24.59  3.61  Female     No  Sun  Dinner     4"
      ]
     },
     "execution_count": 6,
     "metadata": {},
     "output_type": "execute_result"
    }
   ],
   "source": [
    "df= sns.load_dataset('tips')\n",
    "df.head()"
   ]
  },
  {
   "cell_type": "code",
   "execution_count": 7,
   "metadata": {},
   "outputs": [
    {
     "name": "stdout",
     "output_type": "stream",
     "text": [
      "<class 'pandas.core.frame.DataFrame'>\n",
      "RangeIndex: 244 entries, 0 to 243\n",
      "Data columns (total 7 columns):\n",
      " #   Column      Non-Null Count  Dtype   \n",
      "---  ------      --------------  -----   \n",
      " 0   total_bill  244 non-null    float64 \n",
      " 1   tip         244 non-null    float64 \n",
      " 2   sex         244 non-null    category\n",
      " 3   smoker      244 non-null    category\n",
      " 4   day         244 non-null    category\n",
      " 5   time        244 non-null    category\n",
      " 6   size        244 non-null    int64   \n",
      "dtypes: category(4), float64(2), int64(1)\n",
      "memory usage: 7.4 KB\n"
     ]
    }
   ],
   "source": [
    "df.info()"
   ]
  },
  {
   "cell_type": "code",
   "execution_count": 8,
   "metadata": {},
   "outputs": [],
   "source": [
    "model= LinearRegression()"
   ]
  },
  {
   "cell_type": "code",
   "execution_count": 9,
   "metadata": {},
   "outputs": [
    {
     "data": {
      "text/html": [
       "<style>#sk-container-id-1 {color: black;background-color: white;}#sk-container-id-1 pre{padding: 0;}#sk-container-id-1 div.sk-toggleable {background-color: white;}#sk-container-id-1 label.sk-toggleable__label {cursor: pointer;display: block;width: 100%;margin-bottom: 0;padding: 0.3em;box-sizing: border-box;text-align: center;}#sk-container-id-1 label.sk-toggleable__label-arrow:before {content: \"▸\";float: left;margin-right: 0.25em;color: #696969;}#sk-container-id-1 label.sk-toggleable__label-arrow:hover:before {color: black;}#sk-container-id-1 div.sk-estimator:hover label.sk-toggleable__label-arrow:before {color: black;}#sk-container-id-1 div.sk-toggleable__content {max-height: 0;max-width: 0;overflow: hidden;text-align: left;background-color: #f0f8ff;}#sk-container-id-1 div.sk-toggleable__content pre {margin: 0.2em;color: black;border-radius: 0.25em;background-color: #f0f8ff;}#sk-container-id-1 input.sk-toggleable__control:checked~div.sk-toggleable__content {max-height: 200px;max-width: 100%;overflow: auto;}#sk-container-id-1 input.sk-toggleable__control:checked~label.sk-toggleable__label-arrow:before {content: \"▾\";}#sk-container-id-1 div.sk-estimator input.sk-toggleable__control:checked~label.sk-toggleable__label {background-color: #d4ebff;}#sk-container-id-1 div.sk-label input.sk-toggleable__control:checked~label.sk-toggleable__label {background-color: #d4ebff;}#sk-container-id-1 input.sk-hidden--visually {border: 0;clip: rect(1px 1px 1px 1px);clip: rect(1px, 1px, 1px, 1px);height: 1px;margin: -1px;overflow: hidden;padding: 0;position: absolute;width: 1px;}#sk-container-id-1 div.sk-estimator {font-family: monospace;background-color: #f0f8ff;border: 1px dotted black;border-radius: 0.25em;box-sizing: border-box;margin-bottom: 0.5em;}#sk-container-id-1 div.sk-estimator:hover {background-color: #d4ebff;}#sk-container-id-1 div.sk-parallel-item::after {content: \"\";width: 100%;border-bottom: 1px solid gray;flex-grow: 1;}#sk-container-id-1 div.sk-label:hover label.sk-toggleable__label {background-color: #d4ebff;}#sk-container-id-1 div.sk-serial::before {content: \"\";position: absolute;border-left: 1px solid gray;box-sizing: border-box;top: 0;bottom: 0;left: 50%;z-index: 0;}#sk-container-id-1 div.sk-serial {display: flex;flex-direction: column;align-items: center;background-color: white;padding-right: 0.2em;padding-left: 0.2em;position: relative;}#sk-container-id-1 div.sk-item {position: relative;z-index: 1;}#sk-container-id-1 div.sk-parallel {display: flex;align-items: stretch;justify-content: center;background-color: white;position: relative;}#sk-container-id-1 div.sk-item::before, #sk-container-id-1 div.sk-parallel-item::before {content: \"\";position: absolute;border-left: 1px solid gray;box-sizing: border-box;top: 0;bottom: 0;left: 50%;z-index: -1;}#sk-container-id-1 div.sk-parallel-item {display: flex;flex-direction: column;z-index: 1;position: relative;background-color: white;}#sk-container-id-1 div.sk-parallel-item:first-child::after {align-self: flex-end;width: 50%;}#sk-container-id-1 div.sk-parallel-item:last-child::after {align-self: flex-start;width: 50%;}#sk-container-id-1 div.sk-parallel-item:only-child::after {width: 0;}#sk-container-id-1 div.sk-dashed-wrapped {border: 1px dashed gray;margin: 0 0.4em 0.5em 0.4em;box-sizing: border-box;padding-bottom: 0.4em;background-color: white;}#sk-container-id-1 div.sk-label label {font-family: monospace;font-weight: bold;display: inline-block;line-height: 1.2em;}#sk-container-id-1 div.sk-label-container {text-align: center;}#sk-container-id-1 div.sk-container {/* jupyter's `normalize.less` sets `[hidden] { display: none; }` but bootstrap.min.css set `[hidden] { display: none !important; }` so we also need the `!important` here to be able to override the default hidden behavior on the sphinx rendered scikit-learn.org. See: https://github.com/scikit-learn/scikit-learn/issues/21755 */display: inline-block !important;position: relative;}#sk-container-id-1 div.sk-text-repr-fallback {display: none;}</style><div id=\"sk-container-id-1\" class=\"sk-top-container\"><div class=\"sk-text-repr-fallback\"><pre>LinearRegression()</pre><b>In a Jupyter environment, please rerun this cell to show the HTML representation or trust the notebook. <br />On GitHub, the HTML representation is unable to render, please try loading this page with nbviewer.org.</b></div><div class=\"sk-container\" hidden><div class=\"sk-item\"><div class=\"sk-estimator sk-toggleable\"><input class=\"sk-toggleable__control sk-hidden--visually\" id=\"sk-estimator-id-1\" type=\"checkbox\" checked><label for=\"sk-estimator-id-1\" class=\"sk-toggleable__label sk-toggleable__label-arrow\">LinearRegression</label><div class=\"sk-toggleable__content\"><pre>LinearRegression()</pre></div></div></div></div></div>"
      ],
      "text/plain": [
       "LinearRegression()"
      ]
     },
     "execution_count": 9,
     "metadata": {},
     "output_type": "execute_result"
    }
   ],
   "source": [
    "model.fit(df[['total_bill']], df['tip'])"
   ]
  },
  {
   "cell_type": "code",
   "execution_count": 10,
   "metadata": {},
   "outputs": [
    {
     "name": "stdout",
     "output_type": "stream",
     "text": [
      "0.45661658635167657\n"
     ]
    }
   ],
   "source": [
    "accuracy= model.score(df[['total_bill']], df['tip'])\n",
    "print(accuracy)"
   ]
  },
  {
   "cell_type": "code",
   "execution_count": 12,
   "metadata": {},
   "outputs": [
    {
     "data": {
      "text/plain": [
       "array([[ 1.01],\n",
       "       [ 1.66],\n",
       "       [ 3.5 ],\n",
       "       [ 3.31],\n",
       "       [ 3.61],\n",
       "       [ 4.71],\n",
       "       [ 2.  ],\n",
       "       [ 3.12],\n",
       "       [ 1.96],\n",
       "       [ 3.23],\n",
       "       [ 1.71],\n",
       "       [ 5.  ],\n",
       "       [ 1.57],\n",
       "       [ 3.  ],\n",
       "       [ 3.02],\n",
       "       [ 3.92],\n",
       "       [ 1.67],\n",
       "       [ 3.71],\n",
       "       [ 3.5 ],\n",
       "       [ 3.35],\n",
       "       [ 4.08],\n",
       "       [ 2.75],\n",
       "       [ 2.23],\n",
       "       [ 7.58],\n",
       "       [ 3.18],\n",
       "       [ 2.34],\n",
       "       [ 2.  ],\n",
       "       [ 2.  ],\n",
       "       [ 4.3 ],\n",
       "       [ 3.  ],\n",
       "       [ 1.45],\n",
       "       [ 2.5 ],\n",
       "       [ 3.  ],\n",
       "       [ 2.45],\n",
       "       [ 3.27],\n",
       "       [ 3.6 ],\n",
       "       [ 2.  ],\n",
       "       [ 3.07],\n",
       "       [ 2.31],\n",
       "       [ 5.  ],\n",
       "       [ 2.24],\n",
       "       [ 2.54],\n",
       "       [ 3.06],\n",
       "       [ 1.32],\n",
       "       [ 5.6 ],\n",
       "       [ 3.  ],\n",
       "       [ 5.  ],\n",
       "       [ 6.  ],\n",
       "       [ 2.05],\n",
       "       [ 3.  ],\n",
       "       [ 2.5 ],\n",
       "       [ 2.6 ],\n",
       "       [ 5.2 ],\n",
       "       [ 1.56],\n",
       "       [ 4.34],\n",
       "       [ 3.51],\n",
       "       [ 3.  ],\n",
       "       [ 1.5 ],\n",
       "       [ 1.76],\n",
       "       [ 6.73],\n",
       "       [ 3.21],\n",
       "       [ 2.  ],\n",
       "       [ 1.98],\n",
       "       [ 3.76],\n",
       "       [ 2.64],\n",
       "       [ 3.15],\n",
       "       [ 2.47],\n",
       "       [ 1.  ],\n",
       "       [ 2.01],\n",
       "       [ 2.09],\n",
       "       [ 1.97],\n",
       "       [ 3.  ],\n",
       "       [ 3.14],\n",
       "       [ 5.  ],\n",
       "       [ 2.2 ],\n",
       "       [ 1.25],\n",
       "       [ 3.08],\n",
       "       [ 4.  ],\n",
       "       [ 3.  ],\n",
       "       [ 2.71],\n",
       "       [ 3.  ],\n",
       "       [ 3.4 ],\n",
       "       [ 1.83],\n",
       "       [ 5.  ],\n",
       "       [ 2.03],\n",
       "       [ 5.17],\n",
       "       [ 2.  ],\n",
       "       [ 4.  ],\n",
       "       [ 5.85],\n",
       "       [ 3.  ],\n",
       "       [ 3.  ],\n",
       "       [ 3.5 ],\n",
       "       [ 1.  ],\n",
       "       [ 4.3 ],\n",
       "       [ 3.25],\n",
       "       [ 4.73],\n",
       "       [ 4.  ],\n",
       "       [ 1.5 ],\n",
       "       [ 3.  ],\n",
       "       [ 1.5 ],\n",
       "       [ 2.5 ],\n",
       "       [ 3.  ],\n",
       "       [ 2.5 ],\n",
       "       [ 3.48],\n",
       "       [ 4.08],\n",
       "       [ 1.64],\n",
       "       [ 4.06],\n",
       "       [ 4.29],\n",
       "       [ 3.76],\n",
       "       [ 4.  ],\n",
       "       [ 3.  ],\n",
       "       [ 1.  ],\n",
       "       [ 4.  ],\n",
       "       [ 2.55],\n",
       "       [ 4.  ],\n",
       "       [ 3.5 ],\n",
       "       [ 5.07],\n",
       "       [ 1.5 ],\n",
       "       [ 1.8 ],\n",
       "       [ 2.92],\n",
       "       [ 2.31],\n",
       "       [ 1.68],\n",
       "       [ 2.5 ],\n",
       "       [ 2.  ],\n",
       "       [ 2.52],\n",
       "       [ 4.2 ],\n",
       "       [ 1.48],\n",
       "       [ 2.  ],\n",
       "       [ 2.  ],\n",
       "       [ 2.18],\n",
       "       [ 1.5 ],\n",
       "       [ 2.83],\n",
       "       [ 1.5 ],\n",
       "       [ 2.  ],\n",
       "       [ 3.25],\n",
       "       [ 1.25],\n",
       "       [ 2.  ],\n",
       "       [ 2.  ],\n",
       "       [ 2.  ],\n",
       "       [ 2.75],\n",
       "       [ 3.5 ],\n",
       "       [ 6.7 ],\n",
       "       [ 5.  ],\n",
       "       [ 5.  ],\n",
       "       [ 2.3 ],\n",
       "       [ 1.5 ],\n",
       "       [ 1.36],\n",
       "       [ 1.63],\n",
       "       [ 1.73],\n",
       "       [ 2.  ],\n",
       "       [ 2.5 ],\n",
       "       [ 2.  ],\n",
       "       [ 2.74],\n",
       "       [ 2.  ],\n",
       "       [ 2.  ],\n",
       "       [ 5.14],\n",
       "       [ 5.  ],\n",
       "       [ 3.75],\n",
       "       [ 2.61],\n",
       "       [ 2.  ],\n",
       "       [ 3.5 ],\n",
       "       [ 2.5 ],\n",
       "       [ 2.  ],\n",
       "       [ 2.  ],\n",
       "       [ 3.  ],\n",
       "       [ 3.48],\n",
       "       [ 2.24],\n",
       "       [ 4.5 ],\n",
       "       [ 1.61],\n",
       "       [ 2.  ],\n",
       "       [10.  ],\n",
       "       [ 3.16],\n",
       "       [ 5.15],\n",
       "       [ 3.18],\n",
       "       [ 4.  ],\n",
       "       [ 3.11],\n",
       "       [ 2.  ],\n",
       "       [ 2.  ],\n",
       "       [ 4.  ],\n",
       "       [ 3.55],\n",
       "       [ 3.68],\n",
       "       [ 5.65],\n",
       "       [ 3.5 ],\n",
       "       [ 6.5 ],\n",
       "       [ 3.  ],\n",
       "       [ 5.  ],\n",
       "       [ 3.5 ],\n",
       "       [ 2.  ],\n",
       "       [ 3.5 ],\n",
       "       [ 4.  ],\n",
       "       [ 1.5 ],\n",
       "       [ 4.19],\n",
       "       [ 2.56],\n",
       "       [ 2.02],\n",
       "       [ 4.  ],\n",
       "       [ 1.44],\n",
       "       [ 2.  ],\n",
       "       [ 5.  ],\n",
       "       [ 2.  ],\n",
       "       [ 2.  ],\n",
       "       [ 4.  ],\n",
       "       [ 2.01],\n",
       "       [ 2.  ],\n",
       "       [ 2.5 ],\n",
       "       [ 4.  ],\n",
       "       [ 3.23],\n",
       "       [ 3.41],\n",
       "       [ 3.  ],\n",
       "       [ 2.03],\n",
       "       [ 2.23],\n",
       "       [ 2.  ],\n",
       "       [ 5.16],\n",
       "       [ 9.  ],\n",
       "       [ 2.5 ],\n",
       "       [ 6.5 ],\n",
       "       [ 1.1 ],\n",
       "       [ 3.  ],\n",
       "       [ 1.5 ],\n",
       "       [ 1.44],\n",
       "       [ 3.09],\n",
       "       [ 2.2 ],\n",
       "       [ 3.48],\n",
       "       [ 1.92],\n",
       "       [ 3.  ],\n",
       "       [ 1.58],\n",
       "       [ 2.5 ],\n",
       "       [ 2.  ],\n",
       "       [ 3.  ],\n",
       "       [ 2.72],\n",
       "       [ 2.88],\n",
       "       [ 2.  ],\n",
       "       [ 3.  ],\n",
       "       [ 3.39],\n",
       "       [ 1.47],\n",
       "       [ 3.  ],\n",
       "       [ 1.25],\n",
       "       [ 1.  ],\n",
       "       [ 1.17],\n",
       "       [ 4.67],\n",
       "       [ 5.92],\n",
       "       [ 2.  ],\n",
       "       [ 2.  ],\n",
       "       [ 1.75],\n",
       "       [ 3.  ]])"
      ]
     },
     "execution_count": 12,
     "metadata": {},
     "output_type": "execute_result"
    }
   ],
   "source": [
    "#reshape the total_bill column\n",
    "df['total_bill'].values.reshape(-1,1)\n",
    "df['tip'].values.reshape(-1,1)"
   ]
  },
  {
   "cell_type": "code",
   "execution_count": 13,
   "metadata": {},
   "outputs": [
    {
     "name": "stdout",
     "output_type": "stream",
     "text": [
      "0.45661658635167657\n"
     ]
    }
   ],
   "source": [
    "accuracy= model.score(df[['total_bill']], df['tip'])\n",
    "print(accuracy)"
   ]
  },
  {
   "cell_type": "code",
   "execution_count": 15,
   "metadata": {},
   "outputs": [],
   "source": [
    "x=df['total_bill']\n",
    "y=df['tip']"
   ]
  },
  {
   "cell_type": "code",
   "execution_count": 16,
   "metadata": {},
   "outputs": [],
   "source": [
    "x_train,x_test,y_train, y_test=train_test_split(x,y, train_size=0.8)"
   ]
  },
  {
   "cell_type": "code",
   "execution_count": 17,
   "metadata": {},
   "outputs": [],
   "source": [
    "model= LinearRegression()"
   ]
  },
  {
   "cell_type": "code",
   "execution_count": null,
   "metadata": {},
   "outputs": [],
   "source": []
  },
  {
   "cell_type": "code",
   "execution_count": null,
   "metadata": {},
   "outputs": [],
   "source": []
  },
  {
   "cell_type": "code",
   "execution_count": null,
   "metadata": {},
   "outputs": [],
   "source": []
  }
 ],
 "metadata": {
  "kernelspec": {
   "display_name": "Python 3.10.8 64-bit",
   "language": "python",
   "name": "python3"
  },
  "language_info": {
   "codemirror_mode": {
    "name": "ipython",
    "version": 3
   },
   "file_extension": ".py",
   "mimetype": "text/x-python",
   "name": "python",
   "nbconvert_exporter": "python",
   "pygments_lexer": "ipython3",
   "version": "3.10.8"
  },
  "orig_nbformat": 4,
  "vscode": {
   "interpreter": {
    "hash": "c4b181524223241c7740ef52d002867def834bbcd6c8d6b838eda11bb262ccc1"
   }
  }
 },
 "nbformat": 4,
 "nbformat_minor": 2
}
